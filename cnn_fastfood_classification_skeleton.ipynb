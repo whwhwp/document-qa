{
  "cells": [
    {
      "cell_type": "markdown",
      "metadata": {
        "id": "view-in-github",
        "colab_type": "text"
      },
      "source": [
        "<a href=\"https://colab.research.google.com/github/whwhwp/document-qa/blob/main/cnn_fastfood_classification_skeleton.ipynb\" target=\"_parent\"><img src=\"https://colab.research.google.com/assets/colab-badge.svg\" alt=\"Open In Colab\"/></a>"
      ]
    },
    {
      "cell_type": "markdown",
      "metadata": {
        "id": "ETEN8KLExPbn"
      },
      "source": [
        "#Set up Environment & Prepare the Dataset"
      ]
    },
    {
      "cell_type": "code",
      "execution_count": null,
      "metadata": {
        "id": "IgZGzjdKxPbt"
      },
      "outputs": [],
      "source": [
        "import matplotlib.pyplot as plt\n",
        "from PIL import Image\n",
        "import os\n",
        "import numpy as np\n",
        "import zipfile\n",
        "import seaborn as sns\n",
        "import pandas as pd\n",
        "import tensorflow as tf\n",
        "%matplotlib inline"
      ]
    },
    {
      "cell_type": "code",
      "execution_count": null,
      "metadata": {
        "colab": {
          "base_uri": "https://localhost:8080/"
        },
        "id": "X9eMp9hKZmOl",
        "outputId": "f95da944-0e2d-4c06-d722-aac7ad0d1c6a"
      },
      "outputs": [
        {
          "output_type": "stream",
          "name": "stdout",
          "text": [
            "Mounted at /content/drive\n"
          ]
        }
      ],
      "source": [
        "from google.colab import drive\n",
        "drive.mount('/content/drive')"
      ]
    },
    {
      "cell_type": "code",
      "execution_count": null,
      "metadata": {
        "colab": {
          "base_uri": "https://localhost:8080/"
        },
        "id": "k1XQZQUm72yF",
        "outputId": "da97a9d6-fdd1-4da4-c2e5-3132b22024d0"
      },
      "outputs": [
        {
          "output_type": "stream",
          "name": "stdout",
          "text": [
            "Using GPU\n"
          ]
        }
      ],
      "source": [
        "# Check for GPU / TPU\n",
        "\n",
        "try:\n",
        "    if os.environ['COLAB_TPU_ADDR']:\n",
        "        cluster_resolver = tf.distribute.cluster_resolver.TPUClusterResolver(tpu='')\n",
        "        tf.config.experimental_connect_to_cluster(cluster_resolver)\n",
        "        tf.tpu.experimental.initialize_tpu_system(cluster_resolver)\n",
        "        strategy = tf.distribute.TPUStrategy(cluster_resolver)\n",
        "        print('Using TPU')\n",
        "    elif tf.config.list_physical_devices('GPU'):\n",
        "        strategy = tf.distribute.MirroredStrategy()\n",
        "        print('Using GPU')\n",
        "    else:\n",
        "        raise ValueError('Running on CPU is not recommended.')\n",
        "except KeyError:\n",
        "    if tf.config.list_physical_devices('GPU'):\n",
        "        strategy = tf.distribute.MirroredStrategy()\n",
        "        print('Using GPU')\n",
        "    else:\n",
        "        raise ValueError('Running on CPU is not recommended.')"
      ]
    },
    {
      "cell_type": "code",
      "execution_count": null,
      "metadata": {
        "id": "B4q7TC4OxPbw"
      },
      "outputs": [],
      "source": [
        "def extract_zip(filename, input_path, output_path):\n",
        "    print(\"Start extracting zip file.\")\n",
        "    with zipfile.ZipFile(input_path, 'r') as zip_file:\n",
        "        zip_file.extractall(output_path)\n",
        "    print(\"Finished.\")"
      ]
    },
    {
      "cell_type": "code",
      "execution_count": null,
      "metadata": {
        "id": "5rcifaD9hH68",
        "colab": {
          "base_uri": "https://localhost:8080/"
        },
        "outputId": "66a0c9c2-6a44-4633-84c1-2b6478d746df"
      },
      "outputs": [
        {
          "output_type": "stream",
          "name": "stdout",
          "text": [
            "Start extracting zip file.\n",
            "Finished.\n",
            "DONE\n"
          ]
        }
      ],
      "source": [
        "source_path = '/content/drive/MyDrive/fastfood'\n",
        "target_path = './data'\n",
        "filename = \"Train\"\n",
        "extract_zip(filename, os.path.join(source_path, filename+\".zip\"), target_path)\n",
        "print(\"DONE\")"
      ]
    },
    {
      "cell_type": "code",
      "execution_count": null,
      "metadata": {
        "colab": {
          "base_uri": "https://localhost:8080/"
        },
        "id": "XFBGX3-5900x",
        "outputId": "d0d1ca54-25ad-4e41-a7cb-12cc9d2554dc"
      },
      "outputs": [
        {
          "output_type": "stream",
          "name": "stdout",
          "text": [
            "{0: 'Baked Potato', 1: 'Burger', 2: 'Crispy Chicken', 3: 'Donut', 4: 'Fries', 5: 'Hot Dog', 6: 'Pizza', 7: 'Sandwich', 8: 'Taco', 9: 'Taquito'}\n"
          ]
        }
      ],
      "source": [
        "data_path = os.path.join(target_path, filename)\n",
        "\n",
        "classes = sorted(os.listdir(data_path))\n",
        "classes = {i:item for i, item in enumerate(classes)}\n",
        "classes_rev = {value:key for key,value in classes.items()}\n",
        "print(classes)"
      ]
    },
    {
      "cell_type": "markdown",
      "metadata": {
        "id": "z1bU1vGexPby"
      },
      "source": [
        "# Preprocess the dataset"
      ]
    },
    {
      "cell_type": "code",
      "execution_count": null,
      "metadata": {
        "id": "mZveMCfvgbAo",
        "colab": {
          "base_uri": "https://localhost:8080/"
        },
        "outputId": "357d0267-0650-4eb9-c4bd-8f4d66765617"
      },
      "outputs": [
        {
          "output_type": "stream",
          "name": "stderr",
          "text": [
            "/usr/local/lib/python3.10/dist-packages/PIL/Image.py:996: UserWarning: Palette images with Transparency expressed in bytes should be converted to RGBA images\n",
            "  warnings.warn(\n"
          ]
        }
      ],
      "source": [
        "# Load train dataset\n",
        "\n",
        "data, labels = [], []\n",
        "\n",
        "for key in classes_rev.keys() :\n",
        "    img_path = os.path.join(data_path, key)\n",
        "    images = os.listdir(img_path)\n",
        "    for image in images:\n",
        "        img = Image.open(os.path.join(img_path, image)).convert(\"RGB\").resize((64,64))\n",
        "        data.append(np.array(img).astype('float32')/255)\n",
        "        labels.append(classes_rev[key])\n",
        "\n",
        "data = np.array(data)\n",
        "labels = np.array(labels)"
      ]
    },
    {
      "cell_type": "code",
      "execution_count": null,
      "metadata": {
        "colab": {
          "base_uri": "https://localhost:8080/"
        },
        "id": "UZgjVDhhiWEG",
        "outputId": "73443631-fcdf-474d-b7d9-15b11900cad7"
      },
      "outputs": [
        {
          "output_type": "stream",
          "name": "stdout",
          "text": [
            "(10000, 64, 64, 3)\n",
            "(10000,)\n"
          ]
        }
      ],
      "source": [
        "print(data.shape)\n",
        "print(labels.shape)"
      ]
    },
    {
      "cell_type": "code",
      "source": [
        "# Load test dataset\n",
        "\n",
        "filename = \"Test\"\n",
        "extract_zip(filename, os.path.join(source_path, filename+\".zip\"), target_path)\n",
        "print(\"DONE\")\n",
        "\n",
        "test_data_path = \"/content/data/Test\"\n",
        "test_data = []\n",
        "\n",
        "sorted_name = sorted([int(name.split('.')[0]) for name in os.listdir(test_data_path)])\n",
        "sorted_path = [str(name)+\".jpeg\" for name in sorted_name]\n",
        "\n",
        "for image in sorted_path:\n",
        "    img = Image.open(os.path.join(test_data_path, image)).convert(\"RGB\").resize((64,64))\n",
        "    test_data.append(np.array(img).astype('float32')/255)\n",
        "\n",
        "test_data = np.array(test_data)\n",
        "\n",
        "print(test_data.shape)"
      ],
      "metadata": {
        "colab": {
          "base_uri": "https://localhost:8080/"
        },
        "id": "mIrHFU2CMcaC",
        "outputId": "37fd9816-f503-45ba-889a-fd4596ebfdf8"
      },
      "execution_count": null,
      "outputs": [
        {
          "output_type": "stream",
          "name": "stdout",
          "text": [
            "Start extracting zip file.\n",
            "Finished.\n",
            "DONE\n",
            "(10000, 64, 64, 3)\n"
          ]
        }
      ]
    },
    {
      "cell_type": "code",
      "execution_count": null,
      "metadata": {
        "colab": {
          "base_uri": "https://localhost:8080/",
          "height": 574
        },
        "id": "3MZQz5SRgYYb",
        "outputId": "2b591765-fb0c-4f16-f1c6-88f824a72dae"
      },
      "outputs": [
        {
          "output_type": "stream",
          "name": "stdout",
          "text": [
            "Num of Class:  10\n",
            "Num of samples per Class [ 500  500  500  500  500 1500 1500 1500 1500 1500]\n"
          ]
        },
        {
          "output_type": "display_data",
          "data": {
            "text/plain": [
              "<Figure size 640x480 with 1 Axes>"
            ],
            "image/png": "[encoded data removed]"
          },
          "metadata": {}
        }
      ],
      "source": [
        "classes_, counts = np.unique(labels, return_counts=True)\n",
        "num_classes = len(classes_)\n",
        "print(\"Num of Class: \", num_classes)\n",
        "print(\"Num of samples per Class\", counts)\n",
        "\n",
        "train_label_str = [classes[label_int] for label_int in labels.tolist()]\n",
        "df_train_label = pd.DataFrame(train_label_str, columns=['label'])\n",
        "ax = sns.countplot(x='label', data=df_train_label, order=list(classes_rev.keys()))\n",
        "ax.set_title('train label distribution')\n",
        "plt.xticks(rotation=45, ha=\"right\")\n",
        "plt.show()"
      ]
    },
    {
      "cell_type": "code",
      "source": [
        "#이미지 제네레이터 예시\n",
        "from tensorflow.keras.preprocessing.image import ImageDataGenerator\n",
        "\n",
        "with strategy.scope():\n",
        "  generator = ImageDataGenerator(\n",
        "      rotation_range=20,\n",
        "      width_shift_range=0.2,\n",
        "      height_shift_range=0.2,\n",
        "      horizontal_flip = True,\n",
        "      zoom_range = 0.2,\n",
        "      shear_range = 0.1,\n",
        "      )\n",
        "\n",
        "  generator.fit(X_train)"
      ],
      "metadata": {
        "id": "knYTCurwLqJ6"
      },
      "execution_count": null,
      "outputs": []
    },
    {
      "cell_type": "code",
      "source": [
        "training_image_aug = generator.flow(X_train, np.zeros(len(X_train)), batch_size=len(X_train), shuffle=False).next()[0]\n",
        "training_image_aug2 = generator.flow(X_train, np.zeros(len(X_train)), batch_size=len(X_train), shuffle=False).next()[0]\n",
        "\n",
        "X_train = np.concatenate((X_train,\n",
        "                          training_image_aug,\n",
        "                          training_image_aug2))\n",
        "\n",
        "Y_train = np.concatenate((Y_train,\n",
        "                          Y_train,\n",
        "                          Y_train))\n"
      ],
      "metadata": {
        "id": "tEY6Jhv4LvLo"
      },
      "execution_count": null,
      "outputs": []
    },
    {
      "cell_type": "code",
      "source": [
        "#Class weight 예시\n",
        "class_weight = compute_class_weight(\n",
        "    class_weight=\"balanced\" ,\n",
        "    classes=np.unique(labels),\n",
        "    y=labels)\n",
        "class_weight = {i: class_weight[i] for i in range(num_classes)}"
      ],
      "metadata": {
        "id": "pBkXutQEL0XH"
      },
      "execution_count": null,
      "outputs": []
    },
    {
      "cell_type": "code",
      "source": [
        "history = model.fit(X_train, Y_train, epochs=epochs, validation_data = (X_valid, Y_valid), class_weight=class_weight)"
      ],
      "metadata": {
        "id": "Y4ds8dqNL78s"
      },
      "execution_count": null,
      "outputs": []
    }
  ],
  "metadata": {
    "accelerator": "GPU",
    "colab": {
      "machine_shape": "hm",
      "provenance": [],
      "include_colab_link": true
    },
    "kernelspec": {
      "display_name": "Python 3",
      "name": "python3"
    },
    "language_info": {
      "name": "python"
    }
  },
  "nbformat": 4,
  "nbformat_minor": 0
}